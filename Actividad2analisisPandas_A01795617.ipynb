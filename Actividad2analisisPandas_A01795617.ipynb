{
  "cells": [
    {
      "cell_type": "markdown",
      "metadata": {
        "id": "SML-04QQLd9l"
      },
      "source": [
        "**MAESTRÍA EN INTELIGENCIA ARTIFICIAL APLICADA**\n",
        "\n",
        "**Curso: TC4029 - Ciencia y analítica de datos**\n",
        "\n",
        "Tecnológico de Monterrey\n",
        "\n",
        "Prof Grettel Barceló Alonso\n",
        "\n",
        "**Semana 2**\n",
        "Pandas para el análisis de datos en Python\n",
        "\n",
        "---"
      ]
    },
    {
      "cell_type": "markdown",
      "metadata": {
        "id": "6q35__bSBB3G"
      },
      "source": [
        "*   NOMBRE: Antonio Olvera Donlucas\n",
        "*   MATRÍCULA: A01795617\n"
      ]
    },
    {
      "cell_type": "markdown",
      "metadata": {
        "id": "AepY3wwtDXkc"
      },
      "source": [
        "---"
      ]
    },
    {
      "cell_type": "markdown",
      "metadata": {
        "id": "BumCtObqBqGr"
      },
      "source": [
        "En esta actividad usarás el archivo de datos `LaqnData.csv`. Cada fila de este conjunto de datos muestra un registro de medición, por hora, de uno de los siguientes cinco contaminantes del aire:\n",
        "\n",
        "*   `NO` (óxido nítrico)\n",
        "*   `NO2` (dióxido de nitrógeno)\n",
        "*   `NOX` (óxidos nitrosos)\n",
        "*   `PM10` (partículas suspendidas con un diámetro aerodinámico igual o menor a 10 micrómetros)\n",
        "*   `PM2.5` (partículas suspendidas con un diámetro aerodinámico igual o menor a 2.5 micrómetros)\n",
        "\n",
        "Los datos se recopilaron en una ubicación de Londres durante todo el año 2017.\n",
        "\n",
        "**NOTA IMPORTANTE:** Asegúrate de responder *explícitamente* todos los cuestionamientos.\n"
      ]
    },
    {
      "cell_type": "markdown",
      "metadata": {
        "id": "mqtTwAL3Mr44"
      },
      "source": [
        "1.\tDescarga el archivo: `LaqnData.csv` y guarda, en un dataframe (`air_df`), todos sus registros.\n",
        "*   Observa la estructura y contenido del dataframe con los atributos y métodos estudiados (`shape`, `columns`, `head()`, `tail()`, `dtypes`)\n",
        "*   Calcula el porcentaje de valores faltantes por columna."
      ]
    },
    {
      "cell_type": "code",
      "execution_count": 3,
      "metadata": {
        "id": "F5JognteLaJV"
      },
      "outputs": [],
      "source": [
        "import pandas as pd\n",
        "csv = 'LaqnData.csv'"
      ]
    },
    {
      "cell_type": "code",
      "execution_count": 4,
      "metadata": {},
      "outputs": [
        {
          "data": {
            "text/plain": [
              "(43800, 6)"
            ]
          },
          "execution_count": 4,
          "metadata": {},
          "output_type": "execute_result"
        }
      ],
      "source": [
        "air_df = pd.read_csv(csv)\n",
        "air_df.shape\n",
        "\n"
      ]
    },
    {
      "cell_type": "code",
      "execution_count": 11,
      "metadata": {},
      "outputs": [
        {
          "data": {
            "text/plain": [
              "Index(['Site', 'Species', 'ReadingDateTime', 'Value', 'Units',\n",
              "       'Provisional or Ratified'],\n",
              "      dtype='object')"
            ]
          },
          "execution_count": 11,
          "metadata": {},
          "output_type": "execute_result"
        }
      ],
      "source": [
        "air_df.columns\n"
      ]
    },
    {
      "cell_type": "code",
      "execution_count": 12,
      "metadata": {},
      "outputs": [
        {
          "data": {
            "text/html": [
              "<div>\n",
              "<style scoped>\n",
              "    .dataframe tbody tr th:only-of-type {\n",
              "        vertical-align: middle;\n",
              "    }\n",
              "\n",
              "    .dataframe tbody tr th {\n",
              "        vertical-align: top;\n",
              "    }\n",
              "\n",
              "    .dataframe thead th {\n",
              "        text-align: right;\n",
              "    }\n",
              "</style>\n",
              "<table border=\"1\" class=\"dataframe\">\n",
              "  <thead>\n",
              "    <tr style=\"text-align: right;\">\n",
              "      <th></th>\n",
              "      <th>Site</th>\n",
              "      <th>Species</th>\n",
              "      <th>ReadingDateTime</th>\n",
              "      <th>Value</th>\n",
              "      <th>Units</th>\n",
              "      <th>Provisional or Ratified</th>\n",
              "    </tr>\n",
              "  </thead>\n",
              "  <tbody>\n",
              "    <tr>\n",
              "      <th>0</th>\n",
              "      <td>CT3</td>\n",
              "      <td>NO</td>\n",
              "      <td>01/01/2017 00:00</td>\n",
              "      <td>3.5</td>\n",
              "      <td>ug m-3</td>\n",
              "      <td>R</td>\n",
              "    </tr>\n",
              "    <tr>\n",
              "      <th>1</th>\n",
              "      <td>CT3</td>\n",
              "      <td>NO</td>\n",
              "      <td>01/01/2017 01:00</td>\n",
              "      <td>3.6</td>\n",
              "      <td>ug m-3</td>\n",
              "      <td>R</td>\n",
              "    </tr>\n",
              "    <tr>\n",
              "      <th>2</th>\n",
              "      <td>CT3</td>\n",
              "      <td>NO</td>\n",
              "      <td>01/01/2017 02:00</td>\n",
              "      <td>2.2</td>\n",
              "      <td>ug m-3</td>\n",
              "      <td>R</td>\n",
              "    </tr>\n",
              "    <tr>\n",
              "      <th>3</th>\n",
              "      <td>CT3</td>\n",
              "      <td>NO</td>\n",
              "      <td>01/01/2017 03:00</td>\n",
              "      <td>2.1</td>\n",
              "      <td>ug m-3</td>\n",
              "      <td>R</td>\n",
              "    </tr>\n",
              "    <tr>\n",
              "      <th>4</th>\n",
              "      <td>CT3</td>\n",
              "      <td>NO</td>\n",
              "      <td>01/01/2017 04:00</td>\n",
              "      <td>3.3</td>\n",
              "      <td>ug m-3</td>\n",
              "      <td>R</td>\n",
              "    </tr>\n",
              "  </tbody>\n",
              "</table>\n",
              "</div>"
            ],
            "text/plain": [
              "  Site Species   ReadingDateTime  Value   Units Provisional or Ratified\n",
              "0  CT3      NO  01/01/2017 00:00    3.5  ug m-3                       R\n",
              "1  CT3      NO  01/01/2017 01:00    3.6  ug m-3                       R\n",
              "2  CT3      NO  01/01/2017 02:00    2.2  ug m-3                       R\n",
              "3  CT3      NO  01/01/2017 03:00    2.1  ug m-3                       R\n",
              "4  CT3      NO  01/01/2017 04:00    3.3  ug m-3                       R"
            ]
          },
          "execution_count": 12,
          "metadata": {},
          "output_type": "execute_result"
        }
      ],
      "source": [
        "air_df.head()\n"
      ]
    },
    {
      "cell_type": "code",
      "execution_count": 13,
      "metadata": {},
      "outputs": [
        {
          "data": {
            "text/html": [
              "<div>\n",
              "<style scoped>\n",
              "    .dataframe tbody tr th:only-of-type {\n",
              "        vertical-align: middle;\n",
              "    }\n",
              "\n",
              "    .dataframe tbody tr th {\n",
              "        vertical-align: top;\n",
              "    }\n",
              "\n",
              "    .dataframe thead th {\n",
              "        text-align: right;\n",
              "    }\n",
              "</style>\n",
              "<table border=\"1\" class=\"dataframe\">\n",
              "  <thead>\n",
              "    <tr style=\"text-align: right;\">\n",
              "      <th></th>\n",
              "      <th>Site</th>\n",
              "      <th>Species</th>\n",
              "      <th>ReadingDateTime</th>\n",
              "      <th>Value</th>\n",
              "      <th>Units</th>\n",
              "      <th>Provisional or Ratified</th>\n",
              "    </tr>\n",
              "  </thead>\n",
              "  <tbody>\n",
              "    <tr>\n",
              "      <th>43795</th>\n",
              "      <td>CT3</td>\n",
              "      <td>PM2.5</td>\n",
              "      <td>31/12/2017 19:00</td>\n",
              "      <td>-2.0</td>\n",
              "      <td>ug m-3</td>\n",
              "      <td>R</td>\n",
              "    </tr>\n",
              "    <tr>\n",
              "      <th>43796</th>\n",
              "      <td>CT3</td>\n",
              "      <td>PM2.5</td>\n",
              "      <td>31/12/2017 20:00</td>\n",
              "      <td>6.0</td>\n",
              "      <td>ug m-3</td>\n",
              "      <td>R</td>\n",
              "    </tr>\n",
              "    <tr>\n",
              "      <th>43797</th>\n",
              "      <td>CT3</td>\n",
              "      <td>PM2.5</td>\n",
              "      <td>31/12/2017 21:00</td>\n",
              "      <td>5.0</td>\n",
              "      <td>ug m-3</td>\n",
              "      <td>R</td>\n",
              "    </tr>\n",
              "    <tr>\n",
              "      <th>43798</th>\n",
              "      <td>CT3</td>\n",
              "      <td>PM2.5</td>\n",
              "      <td>31/12/2017 22:00</td>\n",
              "      <td>5.0</td>\n",
              "      <td>ug m-3</td>\n",
              "      <td>R</td>\n",
              "    </tr>\n",
              "    <tr>\n",
              "      <th>43799</th>\n",
              "      <td>CT3</td>\n",
              "      <td>PM2.5</td>\n",
              "      <td>31/12/2017 23:00</td>\n",
              "      <td>6.0</td>\n",
              "      <td>ug m-3</td>\n",
              "      <td>R</td>\n",
              "    </tr>\n",
              "  </tbody>\n",
              "</table>\n",
              "</div>"
            ],
            "text/plain": [
              "      Site Species   ReadingDateTime  Value   Units Provisional or Ratified\n",
              "43795  CT3   PM2.5  31/12/2017 19:00   -2.0  ug m-3                       R\n",
              "43796  CT3   PM2.5  31/12/2017 20:00    6.0  ug m-3                       R\n",
              "43797  CT3   PM2.5  31/12/2017 21:00    5.0  ug m-3                       R\n",
              "43798  CT3   PM2.5  31/12/2017 22:00    5.0  ug m-3                       R\n",
              "43799  CT3   PM2.5  31/12/2017 23:00    6.0  ug m-3                       R"
            ]
          },
          "execution_count": 13,
          "metadata": {},
          "output_type": "execute_result"
        }
      ],
      "source": [
        "air_df.tail()\n"
      ]
    },
    {
      "cell_type": "code",
      "execution_count": 14,
      "metadata": {},
      "outputs": [
        {
          "data": {
            "text/plain": [
              "Site                        object\n",
              "Species                     object\n",
              "ReadingDateTime             object\n",
              "Value                      float64\n",
              "Units                       object\n",
              "Provisional or Ratified     object\n",
              "dtype: object"
            ]
          },
          "execution_count": 14,
          "metadata": {},
          "output_type": "execute_result"
        }
      ],
      "source": [
        "air_df.dtypes"
      ]
    },
    {
      "cell_type": "code",
      "execution_count": 24,
      "metadata": {},
      "outputs": [
        {
          "name": "stdout",
          "output_type": "stream",
          "text": [
            "Site                       0.000000\n",
            "Species                    0.000000\n",
            "ReadingDateTime            0.000000\n",
            "Value                      7.374429\n",
            "Units                      0.000000\n",
            "Provisional or Ratified    0.000000\n",
            "dtype: float64\n"
          ]
        }
      ],
      "source": [
        "#porcentaje de valores faltante:\n",
        "porcentajeisnull = (air_df.isnull().sum())/(len(air_df))*100\n",
        "print(porcentajeisnull)\n",
        "\n"
      ]
    },
    {
      "cell_type": "markdown",
      "metadata": {
        "id": "APrlS185Cw-K"
      },
      "source": [
        "2.\tObtén la cantidad de valores únicos por columna (`nunique()`) para responder:\n",
        "\n",
        "\n",
        "*   ¿Cuántas mediciones se hicieron?\n",
        "*   ¿Cuántos contaminantes del aire (`Species`) se analizaron?\n",
        "*   ¿Qué columnas no agregan ningún valor informativo porque el mismo valor en todo el conjunto de datos? Elimínalas del dataframe.\n",
        "*   La columna `Units` tampoco posee valor informativo. Verifícalo con la función `unique()` y elimínala del dataframe."
      ]
    },
    {
      "cell_type": "code",
      "execution_count": 29,
      "metadata": {
        "id": "Ke0EGLVaCwm6"
      },
      "outputs": [
        {
          "name": "stdout",
          "output_type": "stream",
          "text": [
            "Mediciones: 8760\n"
          ]
        }
      ],
      "source": [
        "dosnunique= air_df.nunique()\n",
        "mediciones = dos['ReadingDateTime']\n",
        "\n",
        "print(f\"Mediciones:\",mediciones)"
      ]
    },
    {
      "cell_type": "code",
      "execution_count": 32,
      "metadata": {},
      "outputs": [
        {
          "name": "stdout",
          "output_type": "stream",
          "text": [
            "Especies: 5\n"
          ]
        }
      ],
      "source": [
        "mediciones = dos['Species']\n",
        "print(f\"Contaminantes del aire (Species):\",mediciones)\n"
      ]
    },
    {
      "cell_type": "code",
      "execution_count": null,
      "metadata": {},
      "outputs": [],
      "source": [
        "print(f\"Contaminantes del aire (Species):\",mediciones)"
      ]
    },
    {
      "cell_type": "code",
      "execution_count": 5,
      "metadata": {},
      "outputs": [],
      "source": [
        "air_df.nunique()\n",
        "air_df=air_df.drop('Site',axis=1) # El sitio siempre es CT3"
      ]
    },
    {
      "cell_type": "code",
      "execution_count": 6,
      "metadata": {},
      "outputs": [],
      "source": [
        "air_df.nunique()\n",
        "air_df=air_df.drop('Provisional or Ratified',axis=1) #La columna siempre es R\n"
      ]
    },
    {
      "cell_type": "code",
      "execution_count": 38,
      "metadata": {},
      "outputs": [
        {
          "data": {
            "text/plain": [
              "array(['ug m-3', 'ug m-3 as NO2', 'ug/m3'], dtype=object)"
            ]
          },
          "execution_count": 38,
          "metadata": {},
          "output_type": "execute_result"
        }
      ],
      "source": [
        "air_df['Units'].unique()"
      ]
    },
    {
      "cell_type": "code",
      "execution_count": 7,
      "metadata": {},
      "outputs": [],
      "source": [
        "air_df=air_df.drop('Units',axis=1) \n"
      ]
    },
    {
      "cell_type": "markdown",
      "metadata": {
        "id": "zEddCwHWEJZ7"
      },
      "source": [
        "3.\tRealiza el conteo de valores por categoría (`value_counts()`) para la columna `Species` y determina si las lecturas de cada contaminante coincide con el total de mediciones."
      ]
    },
    {
      "cell_type": "code",
      "execution_count": 43,
      "metadata": {
        "id": "inCKasmZEPsv"
      },
      "outputs": [
        {
          "name": "stdout",
          "output_type": "stream",
          "text": [
            "Species\n",
            "NO       8760\n",
            "NO2      8760\n",
            "NOX      8760\n",
            "PM10     8760\n",
            "PM2.5    8760\n",
            "Name: count, dtype: int64\n"
          ]
        }
      ],
      "source": [
        "conteo_de_valores = air_df['Species'].value_counts()\n",
        "print(conteo_de_valores)"
      ]
    },
    {
      "cell_type": "code",
      "execution_count": 44,
      "metadata": {},
      "outputs": [
        {
          "data": {
            "text/plain": [
              "Species               5\n",
              "ReadingDateTime    8760\n",
              "Value              1847\n",
              "dtype: int64"
            ]
          },
          "execution_count": 44,
          "metadata": {},
          "output_type": "execute_result"
        }
      ],
      "source": [
        "air_df.nunique()"
      ]
    },
    {
      "cell_type": "markdown",
      "metadata": {},
      "source": [
        "#"
      ]
    },
    {
      "cell_type": "markdown",
      "metadata": {},
      "source": [
        "El valores del total de mediciones coincide con cada uno de los contaminanates; cada uno tiene 8760."
      ]
    },
    {
      "cell_type": "markdown",
      "metadata": {
        "id": "zhJM6l1vETfI"
      },
      "source": [
        "4.\tUtiliza la función `groupby()` para determinar el promedio del valor por contaminante."
      ]
    },
    {
      "cell_type": "code",
      "execution_count": 48,
      "metadata": {
        "id": "zstyHahSETJK"
      },
      "outputs": [
        {
          "name": "stdout",
          "output_type": "stream",
          "text": [
            "Species\n",
            "NO       15.045115\n",
            "NO2      38.010185\n",
            "NOX      61.078661\n",
            "PM10     22.551704\n",
            "PM2.5    14.999831\n",
            "Name: Value, dtype: float64\n"
          ]
        }
      ],
      "source": [
        "Promedio_p_contaminante = air_df.groupby('Species')['Value'].mean()\n",
        "print(Promedio_p_contaminante)"
      ]
    },
    {
      "cell_type": "markdown",
      "metadata": {
        "id": "GY2ux-Q_EV7J"
      },
      "source": [
        "5.\tEl conjunto de datos está en un formato largo. Aplique la función apropiada para cambiarlo al formato ancho (`ReadingDateTime` como índice y cada contaminante en una columna). Nombre el dataframe resultante como `pvt_df`."
      ]
    },
    {
      "cell_type": "code",
      "execution_count": 49,
      "metadata": {
        "id": "1IETxb9vFIF-"
      },
      "outputs": [
        {
          "name": "stdout",
          "output_type": "stream",
          "text": [
            "Species            NO   NO2   NOX  PM10  PM2.5\n",
            "ReadingDateTime                               \n",
            "01/01/2017 00:00  3.5  30.8  36.2  35.7    NaN\n",
            "01/01/2017 01:00  3.6  31.5  37.0  28.5    NaN\n",
            "01/01/2017 02:00  2.2  27.3  30.7  22.7    NaN\n",
            "01/01/2017 03:00  2.1  23.5  26.8  20.5    NaN\n",
            "01/01/2017 04:00  3.3  28.0  33.0  22.1    NaN\n",
            "...               ...   ...   ...   ...    ...\n",
            "31/12/2017 19:00  0.7  17.5  18.5  16.3   -2.0\n",
            "31/12/2017 20:00  0.7  17.5  18.6  14.5    6.0\n",
            "31/12/2017 21:00  0.7  14.1  15.1   8.6    5.0\n",
            "31/12/2017 22:00  1.1  22.0  23.6  12.5    5.0\n",
            "31/12/2017 23:00  0.9  19.4  20.7  10.4    6.0\n",
            "\n",
            "[8760 rows x 5 columns]\n"
          ]
        }
      ],
      "source": [
        "pvt_df = air_df.pivot(index='ReadingDateTime', columns='Species', values='Value')\n",
        "print(pvt_df)"
      ]
    },
    {
      "cell_type": "markdown",
      "metadata": {
        "id": "JmbiBXqFFIZx"
      },
      "source": [
        "6.\tA través de la función `describe()` responde:\n",
        "\n",
        "*   ¿Cuál es el mayor valor de `NO2` registrado? ¿A qué día pertenece?\n",
        "*   ¿Cuál es el menor valor de `PM10` registrado?¿A qué día pertenece?\n",
        "*   ¿Cuál es la mediana del `NO`? ¿Cómo se interpreta?\n",
        "*   ¿Cuál es el primer cuartil de `PM2.5`? ¿Qué significa?"
      ]
    },
    {
      "cell_type": "code",
      "execution_count": 50,
      "metadata": {
        "id": "_qWYoEx3Fbod"
      },
      "outputs": [
        {
          "data": {
            "text/html": [
              "<div>\n",
              "<style scoped>\n",
              "    .dataframe tbody tr th:only-of-type {\n",
              "        vertical-align: middle;\n",
              "    }\n",
              "\n",
              "    .dataframe tbody tr th {\n",
              "        vertical-align: top;\n",
              "    }\n",
              "\n",
              "    .dataframe thead th {\n",
              "        text-align: right;\n",
              "    }\n",
              "</style>\n",
              "<table border=\"1\" class=\"dataframe\">\n",
              "  <thead>\n",
              "    <tr style=\"text-align: right;\">\n",
              "      <th>Species</th>\n",
              "      <th>NO</th>\n",
              "      <th>NO2</th>\n",
              "      <th>NOX</th>\n",
              "      <th>PM10</th>\n",
              "      <th>PM2.5</th>\n",
              "    </tr>\n",
              "  </thead>\n",
              "  <tbody>\n",
              "    <tr>\n",
              "      <th>count</th>\n",
              "      <td>8660.000000</td>\n",
              "      <td>8660.000000</td>\n",
              "      <td>8660.000000</td>\n",
              "      <td>8657.000000</td>\n",
              "      <td>5933.000000</td>\n",
              "    </tr>\n",
              "    <tr>\n",
              "      <th>mean</th>\n",
              "      <td>15.045115</td>\n",
              "      <td>38.010185</td>\n",
              "      <td>61.078661</td>\n",
              "      <td>22.551704</td>\n",
              "      <td>14.999831</td>\n",
              "    </tr>\n",
              "    <tr>\n",
              "      <th>std</th>\n",
              "      <td>26.678565</td>\n",
              "      <td>18.580841</td>\n",
              "      <td>54.584805</td>\n",
              "      <td>15.344755</td>\n",
              "      <td>13.558588</td>\n",
              "    </tr>\n",
              "    <tr>\n",
              "      <th>min</th>\n",
              "      <td>-2.000000</td>\n",
              "      <td>2.800000</td>\n",
              "      <td>1.000000</td>\n",
              "      <td>-5.600000</td>\n",
              "      <td>-8.000000</td>\n",
              "    </tr>\n",
              "    <tr>\n",
              "      <th>25%</th>\n",
              "      <td>3.100000</td>\n",
              "      <td>23.800000</td>\n",
              "      <td>30.300000</td>\n",
              "      <td>13.900000</td>\n",
              "      <td>7.000000</td>\n",
              "    </tr>\n",
              "    <tr>\n",
              "      <th>50%</th>\n",
              "      <td>7.100000</td>\n",
              "      <td>35.300000</td>\n",
              "      <td>46.900000</td>\n",
              "      <td>19.500000</td>\n",
              "      <td>11.000000</td>\n",
              "    </tr>\n",
              "    <tr>\n",
              "      <th>75%</th>\n",
              "      <td>15.500000</td>\n",
              "      <td>49.900000</td>\n",
              "      <td>73.800000</td>\n",
              "      <td>27.300000</td>\n",
              "      <td>18.000000</td>\n",
              "    </tr>\n",
              "    <tr>\n",
              "      <th>max</th>\n",
              "      <td>401.799990</td>\n",
              "      <td>120.200000</td>\n",
              "      <td>734.299990</td>\n",
              "      <td>633.099980</td>\n",
              "      <td>128.000000</td>\n",
              "    </tr>\n",
              "  </tbody>\n",
              "</table>\n",
              "</div>"
            ],
            "text/plain": [
              "Species           NO          NO2          NOX         PM10        PM2.5\n",
              "count    8660.000000  8660.000000  8660.000000  8657.000000  5933.000000\n",
              "mean       15.045115    38.010185    61.078661    22.551704    14.999831\n",
              "std        26.678565    18.580841    54.584805    15.344755    13.558588\n",
              "min        -2.000000     2.800000     1.000000    -5.600000    -8.000000\n",
              "25%         3.100000    23.800000    30.300000    13.900000     7.000000\n",
              "50%         7.100000    35.300000    46.900000    19.500000    11.000000\n",
              "75%        15.500000    49.900000    73.800000    27.300000    18.000000\n",
              "max       401.799990   120.200000   734.299990   633.099980   128.000000"
            ]
          },
          "execution_count": 50,
          "metadata": {},
          "output_type": "execute_result"
        }
      ],
      "source": [
        "pvt_df.describe()"
      ]
    },
    {
      "cell_type": "code",
      "execution_count": 70,
      "metadata": {},
      "outputs": [
        {
          "name": "stdout",
          "output_type": "stream",
          "text": [
            "El valor máximo para NO2 fue de: '120.2' ocurrió el día de: 24/01/2017 19:00\n"
          ]
        }
      ],
      "source": [
        "col1='NO2'\n",
        "mayorno2 = pvt_df[col1].describe().loc['max']\n",
        "fechamax = pvt_df[col1].idxmax()\n",
        "print(f\"El valor máximo para NO2 fue de: '{mayorno2}' ocurrió el día de: {fechamax}\")"
      ]
    },
    {
      "cell_type": "code",
      "execution_count": 71,
      "metadata": {},
      "outputs": [
        {
          "name": "stdout",
          "output_type": "stream",
          "text": [
            "El valor mínimo para PM10 fue de: '-5.6' ocurrió el día de: 12/09/2017 23:00\n"
          ]
        }
      ],
      "source": [
        "col2='PM10'\n",
        "minPM10 = pvt_df[col2].describe().loc['min']\n",
        "fechamin = pvt_df[col2].idxmin()\n",
        "print(f\"El valor mínimo para PM10 fue de: '{minPM10}' ocurrió el día de: {fechamin}\")"
      ]
    },
    {
      "cell_type": "code",
      "execution_count": 73,
      "metadata": {},
      "outputs": [
        {
          "name": "stdout",
          "output_type": "stream",
          "text": [
            "La mediana para NO'NO' es: 7.1\n"
          ]
        }
      ],
      "source": [
        "col3 = 'NO'\n",
        "mediana = pvt_df[col3].median()\n",
        "print(f\"La mediana para:'{col3}' es: {mediana}\")"
      ]
    },
    {
      "cell_type": "markdown",
      "metadata": {},
      "source": [
        "LO que quiere decir que la la mitad de los valores hacie arriba están por encima del 7.1"
      ]
    },
    {
      "cell_type": "code",
      "execution_count": 74,
      "metadata": {},
      "outputs": [
        {
          "name": "stdout",
          "output_type": "stream",
          "text": [
            "El primer cuartil (Q1) para 'PM2.5' es: 7.0\n"
          ]
        }
      ],
      "source": [
        "col4 = 'PM2.5'\n",
        "primer_cuartil = pvt_df[col4].quantile(0.25)\n",
        "print(f\"El primer cuartil (Q1) para '{col4}' es: {primer_cuartil}\")\n"
      ]
    },
    {
      "cell_type": "markdown",
      "metadata": {},
      "source": [
        "Que quiere decir que el 25% de los datos son iguales o menores a 7"
      ]
    },
    {
      "cell_type": "markdown",
      "metadata": {
        "id": "Rki16hYaFd9p"
      },
      "source": [
        "7.\tDibuja un histograma para cada columna de `pvt_df`. ¿Qué contaminante tiene mayor variabilidad?"
      ]
    },
    {
      "cell_type": "code",
      "execution_count": 86,
      "metadata": {},
      "outputs": [],
      "source": [
        "import matplotlib.pyplot as plt"
      ]
    },
    {
      "cell_type": "code",
      "execution_count": 90,
      "metadata": {},
      "outputs": [
        {
          "data": {
            "image/png": "[encoded data removed]",
            "text/plain": [
              "<Figure size 800x600 with 1 Axes>"
            ]
          },
          "metadata": {},
          "output_type": "display_data"
        },
        {
          "data": {
            "image/png": "[encoded data removed]",
            "text/plain": [
              "<Figure size 800x600 with 1 Axes>"
            ]
          },
          "metadata": {},
          "output_type": "display_data"
        },
        {
          "data": {
            "image/png": "[encoded data removed]",
            "text/plain": [
              "<Figure size 800x600 with 1 Axes>"
            ]
          },
          "metadata": {},
          "output_type": "display_data"
        },
        {
          "data": {
            "image/png": "[encoded data removed]",
            "text/plain": [
              "<Figure size 800x600 with 1 Axes>"
            ]
          },
          "metadata": {},
          "output_type": "display_data"
        },
        {
          "data": {
            "image/png": "[encoded data removed]",
            "text/plain": [
              "<Figure size 800x600 with 1 Axes>"
            ]
          },
          "metadata": {},
          "output_type": "display_data"
        }
      ],
      "source": [
        "columnas = pvt_df.columns\n",
        "\n",
        "for col in columnas:\n",
        "    plt.figure(figsize=(8, 6))\n",
        "    plt.hist(pvt_df[col], bins=20, edgecolor='blue', color='k')\n",
        "    plt.title(f'Histograma de {col}')\n",
        "    plt.xlabel(col)\n",
        "    plt.ylabel('Frecuencia')\n",
        "    plt.show()"
      ]
    },
    {
      "cell_type": "markdown",
      "metadata": {},
      "source": [
        "NO2 tiene más Variabilidad."
      ]
    },
    {
      "cell_type": "markdown",
      "metadata": {
        "id": "2hJ4LzP3fgvy"
      },
      "source": [
        "8.\tEjecuta el siguiente código y comenta qué hace cada línea:"
      ]
    },
    {
      "cell_type": "code",
      "execution_count": 8,
      "metadata": {},
      "outputs": [
        {
          "data": {
            "text/html": [
              "<div>\n",
              "<style scoped>\n",
              "    .dataframe tbody tr th:only-of-type {\n",
              "        vertical-align: middle;\n",
              "    }\n",
              "\n",
              "    .dataframe tbody tr th {\n",
              "        vertical-align: top;\n",
              "    }\n",
              "\n",
              "    .dataframe thead th {\n",
              "        text-align: right;\n",
              "    }\n",
              "</style>\n",
              "<table border=\"1\" class=\"dataframe\">\n",
              "  <thead>\n",
              "    <tr style=\"text-align: right;\">\n",
              "      <th></th>\n",
              "      <th>Date</th>\n",
              "      <th>Time</th>\n",
              "    </tr>\n",
              "  </thead>\n",
              "  <tbody>\n",
              "    <tr>\n",
              "      <th>0</th>\n",
              "      <td>01/01/2017</td>\n",
              "      <td>00:00</td>\n",
              "    </tr>\n",
              "    <tr>\n",
              "      <th>1</th>\n",
              "      <td>01/01/2017</td>\n",
              "      <td>01:00</td>\n",
              "    </tr>\n",
              "    <tr>\n",
              "      <th>2</th>\n",
              "      <td>01/01/2017</td>\n",
              "      <td>02:00</td>\n",
              "    </tr>\n",
              "    <tr>\n",
              "      <th>3</th>\n",
              "      <td>01/01/2017</td>\n",
              "      <td>03:00</td>\n",
              "    </tr>\n",
              "    <tr>\n",
              "      <th>4</th>\n",
              "      <td>01/01/2017</td>\n",
              "      <td>04:00</td>\n",
              "    </tr>\n",
              "    <tr>\n",
              "      <th>...</th>\n",
              "      <td>...</td>\n",
              "      <td>...</td>\n",
              "    </tr>\n",
              "    <tr>\n",
              "      <th>43795</th>\n",
              "      <td>31/12/2017</td>\n",
              "      <td>19:00</td>\n",
              "    </tr>\n",
              "    <tr>\n",
              "      <th>43796</th>\n",
              "      <td>31/12/2017</td>\n",
              "      <td>20:00</td>\n",
              "    </tr>\n",
              "    <tr>\n",
              "      <th>43797</th>\n",
              "      <td>31/12/2017</td>\n",
              "      <td>21:00</td>\n",
              "    </tr>\n",
              "    <tr>\n",
              "      <th>43798</th>\n",
              "      <td>31/12/2017</td>\n",
              "      <td>22:00</td>\n",
              "    </tr>\n",
              "    <tr>\n",
              "      <th>43799</th>\n",
              "      <td>31/12/2017</td>\n",
              "      <td>23:00</td>\n",
              "    </tr>\n",
              "  </tbody>\n",
              "</table>\n",
              "<p>43800 rows × 2 columns</p>\n",
              "</div>"
            ],
            "text/plain": [
              "             Date   Time\n",
              "0      01/01/2017  00:00\n",
              "1      01/01/2017  01:00\n",
              "2      01/01/2017  02:00\n",
              "3      01/01/2017  03:00\n",
              "4      01/01/2017  04:00\n",
              "...           ...    ...\n",
              "43795  31/12/2017  19:00\n",
              "43796  31/12/2017  20:00\n",
              "43797  31/12/2017  21:00\n",
              "43798  31/12/2017  22:00\n",
              "43799  31/12/2017  23:00\n",
              "\n",
              "[43800 rows x 2 columns]"
            ]
          },
          "execution_count": 8,
          "metadata": {},
          "output_type": "execute_result"
        }
      ],
      "source": [
        "datetime_df = air_df.ReadingDateTime.str.split(' ',expand=True)#separa el valor de la columna ReadingDateTime en dos. ya que está separando por el espacio.\n",
        "datetime_df.columns = ['Date','Time']#Le asigana nombre a las columnas.\n",
        "datetime_df #muestra el dataframe el cual solo contiene las dos columna de fecha separadas.\n"
      ]
    },
    {
      "cell_type": "markdown",
      "metadata": {
        "id": "37E3dol8fpik"
      },
      "source": [
        "9. Ejecuta la siguiente instrucción y compara su salida con la del código anterior (ejercicio 8). ¿Son iguales?"
      ]
    },
    {
      "cell_type": "code",
      "execution_count": 9,
      "metadata": {},
      "outputs": [
        {
          "data": {
            "text/html": [
              "<div>\n",
              "<style scoped>\n",
              "    .dataframe tbody tr th:only-of-type {\n",
              "        vertical-align: middle;\n",
              "    }\n",
              "\n",
              "    .dataframe tbody tr th {\n",
              "        vertical-align: top;\n",
              "    }\n",
              "\n",
              "    .dataframe thead th {\n",
              "        text-align: right;\n",
              "    }\n",
              "</style>\n",
              "<table border=\"1\" class=\"dataframe\">\n",
              "  <thead>\n",
              "    <tr style=\"text-align: right;\">\n",
              "      <th></th>\n",
              "      <th>Day</th>\n",
              "      <th>Month</th>\n",
              "      <th>Year</th>\n",
              "    </tr>\n",
              "  </thead>\n",
              "  <tbody>\n",
              "    <tr>\n",
              "      <th>0</th>\n",
              "      <td>01</td>\n",
              "      <td>01</td>\n",
              "      <td>2017</td>\n",
              "    </tr>\n",
              "    <tr>\n",
              "      <th>1</th>\n",
              "      <td>01</td>\n",
              "      <td>01</td>\n",
              "      <td>2017</td>\n",
              "    </tr>\n",
              "    <tr>\n",
              "      <th>2</th>\n",
              "      <td>01</td>\n",
              "      <td>01</td>\n",
              "      <td>2017</td>\n",
              "    </tr>\n",
              "    <tr>\n",
              "      <th>3</th>\n",
              "      <td>01</td>\n",
              "      <td>01</td>\n",
              "      <td>2017</td>\n",
              "    </tr>\n",
              "    <tr>\n",
              "      <th>4</th>\n",
              "      <td>01</td>\n",
              "      <td>01</td>\n",
              "      <td>2017</td>\n",
              "    </tr>\n",
              "    <tr>\n",
              "      <th>...</th>\n",
              "      <td>...</td>\n",
              "      <td>...</td>\n",
              "      <td>...</td>\n",
              "    </tr>\n",
              "    <tr>\n",
              "      <th>43795</th>\n",
              "      <td>31</td>\n",
              "      <td>12</td>\n",
              "      <td>2017</td>\n",
              "    </tr>\n",
              "    <tr>\n",
              "      <th>43796</th>\n",
              "      <td>31</td>\n",
              "      <td>12</td>\n",
              "      <td>2017</td>\n",
              "    </tr>\n",
              "    <tr>\n",
              "      <th>43797</th>\n",
              "      <td>31</td>\n",
              "      <td>12</td>\n",
              "      <td>2017</td>\n",
              "    </tr>\n",
              "    <tr>\n",
              "      <th>43798</th>\n",
              "      <td>31</td>\n",
              "      <td>12</td>\n",
              "      <td>2017</td>\n",
              "    </tr>\n",
              "    <tr>\n",
              "      <th>43799</th>\n",
              "      <td>31</td>\n",
              "      <td>12</td>\n",
              "      <td>2017</td>\n",
              "    </tr>\n",
              "  </tbody>\n",
              "</table>\n",
              "<p>43800 rows × 3 columns</p>\n",
              "</div>"
            ],
            "text/plain": [
              "      Day Month  Year\n",
              "0      01    01  2017\n",
              "1      01    01  2017\n",
              "2      01    01  2017\n",
              "3      01    01  2017\n",
              "4      01    01  2017\n",
              "...    ..   ...   ...\n",
              "43795  31    12  2017\n",
              "43796  31    12  2017\n",
              "43797  31    12  2017\n",
              "43798  31    12  2017\n",
              "43799  31    12  2017\n",
              "\n",
              "[43800 rows x 3 columns]"
            ]
          },
          "execution_count": 9,
          "metadata": {},
          "output_type": "execute_result"
        }
      ],
      "source": [
        "date_df = datetime_df.Date.str.split('/',expand=True)#Separa la columna de Date, está vez usamos como separador el \"/\", dandonos como resultado tres columnas.\n",
        "date_df.columns = ['Day','Month','Year']#Le asigna nombre a las columnas\n",
        "date_df#Muestra el nuevo dataframe con solo estas tres columnas.\n"
      ]
    },
    {
      "cell_type": "code",
      "execution_count": 10,
      "metadata": {},
      "outputs": [
        {
          "data": {
            "text/html": [
              "<div>\n",
              "<style scoped>\n",
              "    .dataframe tbody tr th:only-of-type {\n",
              "        vertical-align: middle;\n",
              "    }\n",
              "\n",
              "    .dataframe tbody tr th {\n",
              "        vertical-align: top;\n",
              "    }\n",
              "\n",
              "    .dataframe thead th {\n",
              "        text-align: right;\n",
              "    }\n",
              "</style>\n",
              "<table border=\"1\" class=\"dataframe\">\n",
              "  <thead>\n",
              "    <tr style=\"text-align: right;\">\n",
              "      <th></th>\n",
              "      <th></th>\n",
              "      <th></th>\n",
              "      <th></th>\n",
              "      <th>Value</th>\n",
              "    </tr>\n",
              "    <tr>\n",
              "      <th>Month</th>\n",
              "      <th>Day</th>\n",
              "      <th>Time</th>\n",
              "      <th>Species</th>\n",
              "      <th></th>\n",
              "    </tr>\n",
              "  </thead>\n",
              "  <tbody>\n",
              "    <tr>\n",
              "      <th rowspan=\"5\" valign=\"top\">01</th>\n",
              "      <th rowspan=\"5\" valign=\"top\">01</th>\n",
              "      <th>00:00</th>\n",
              "      <th>NO</th>\n",
              "      <td>3.5</td>\n",
              "    </tr>\n",
              "    <tr>\n",
              "      <th>01:00</th>\n",
              "      <th>NO</th>\n",
              "      <td>3.6</td>\n",
              "    </tr>\n",
              "    <tr>\n",
              "      <th>02:00</th>\n",
              "      <th>NO</th>\n",
              "      <td>2.2</td>\n",
              "    </tr>\n",
              "    <tr>\n",
              "      <th>03:00</th>\n",
              "      <th>NO</th>\n",
              "      <td>2.1</td>\n",
              "    </tr>\n",
              "    <tr>\n",
              "      <th>04:00</th>\n",
              "      <th>NO</th>\n",
              "      <td>3.3</td>\n",
              "    </tr>\n",
              "    <tr>\n",
              "      <th>...</th>\n",
              "      <th>...</th>\n",
              "      <th>...</th>\n",
              "      <th>...</th>\n",
              "      <td>...</td>\n",
              "    </tr>\n",
              "    <tr>\n",
              "      <th rowspan=\"5\" valign=\"top\">12</th>\n",
              "      <th rowspan=\"5\" valign=\"top\">31</th>\n",
              "      <th>19:00</th>\n",
              "      <th>PM2.5</th>\n",
              "      <td>-2.0</td>\n",
              "    </tr>\n",
              "    <tr>\n",
              "      <th>20:00</th>\n",
              "      <th>PM2.5</th>\n",
              "      <td>6.0</td>\n",
              "    </tr>\n",
              "    <tr>\n",
              "      <th>21:00</th>\n",
              "      <th>PM2.5</th>\n",
              "      <td>5.0</td>\n",
              "    </tr>\n",
              "    <tr>\n",
              "      <th>22:00</th>\n",
              "      <th>PM2.5</th>\n",
              "      <td>5.0</td>\n",
              "    </tr>\n",
              "    <tr>\n",
              "      <th>23:00</th>\n",
              "      <th>PM2.5</th>\n",
              "      <td>6.0</td>\n",
              "    </tr>\n",
              "  </tbody>\n",
              "</table>\n",
              "<p>43800 rows × 1 columns</p>\n",
              "</div>"
            ],
            "text/plain": [
              "                         Value\n",
              "Month Day Time  Species       \n",
              "01    01  00:00 NO         3.5\n",
              "          01:00 NO         3.6\n",
              "          02:00 NO         2.2\n",
              "          03:00 NO         2.1\n",
              "          04:00 NO         3.3\n",
              "...                        ...\n",
              "12    31  19:00 PM2.5     -2.0\n",
              "          20:00 PM2.5      6.0\n",
              "          21:00 PM2.5      5.0\n",
              "          22:00 PM2.5      5.0\n",
              "          23:00 PM2.5      6.0\n",
              "\n",
              "[43800 rows x 1 columns]"
            ]
          },
          "execution_count": 10,
          "metadata": {},
          "output_type": "execute_result"
        }
      ],
      "source": [
        "air_df = air_df.join(date_df).join(datetime_df.Time).drop(columns=['ReadingDateTime','Year'])#junta los dos nuevos dataframes al dataframe original, los cuales contienen separadas las columnas y \n",
        "#elimina las columnas originales.\n",
        "air_df = air_df.set_index(['Month','Day','Time','Species'])#Reacomoda las columnas con la función de set_index apparte de que se muestran sin repetir las columnas para valores unicos.\n",
        "air_df#muestra el dataframe original pero modificado."
      ]
    },
    {
      "cell_type": "code",
      "execution_count": 11,
      "metadata": {
        "id": "cgbAxJrvfweW"
      },
      "outputs": [
        {
          "data": {
            "text/html": [
              "<div>\n",
              "<style scoped>\n",
              "    .dataframe tbody tr th:only-of-type {\n",
              "        vertical-align: middle;\n",
              "    }\n",
              "\n",
              "    .dataframe tbody tr th {\n",
              "        vertical-align: top;\n",
              "    }\n",
              "\n",
              "    .dataframe thead tr th {\n",
              "        text-align: left;\n",
              "    }\n",
              "\n",
              "    .dataframe thead tr:last-of-type th {\n",
              "        text-align: right;\n",
              "    }\n",
              "</style>\n",
              "<table border=\"1\" class=\"dataframe\">\n",
              "  <thead>\n",
              "    <tr>\n",
              "      <th></th>\n",
              "      <th></th>\n",
              "      <th></th>\n",
              "      <th colspan=\"5\" halign=\"left\">Value</th>\n",
              "    </tr>\n",
              "    <tr>\n",
              "      <th></th>\n",
              "      <th></th>\n",
              "      <th>Species</th>\n",
              "      <th>NO</th>\n",
              "      <th>NO2</th>\n",
              "      <th>NOX</th>\n",
              "      <th>PM10</th>\n",
              "      <th>PM2.5</th>\n",
              "    </tr>\n",
              "    <tr>\n",
              "      <th>Month</th>\n",
              "      <th>Day</th>\n",
              "      <th>Time</th>\n",
              "      <th></th>\n",
              "      <th></th>\n",
              "      <th></th>\n",
              "      <th></th>\n",
              "      <th></th>\n",
              "    </tr>\n",
              "  </thead>\n",
              "  <tbody>\n",
              "    <tr>\n",
              "      <th rowspan=\"5\" valign=\"top\">01</th>\n",
              "      <th rowspan=\"5\" valign=\"top\">01</th>\n",
              "      <th>00:00</th>\n",
              "      <td>3.5</td>\n",
              "      <td>30.8</td>\n",
              "      <td>36.2</td>\n",
              "      <td>35.7</td>\n",
              "      <td>NaN</td>\n",
              "    </tr>\n",
              "    <tr>\n",
              "      <th>01:00</th>\n",
              "      <td>3.6</td>\n",
              "      <td>31.5</td>\n",
              "      <td>37.0</td>\n",
              "      <td>28.5</td>\n",
              "      <td>NaN</td>\n",
              "    </tr>\n",
              "    <tr>\n",
              "      <th>02:00</th>\n",
              "      <td>2.2</td>\n",
              "      <td>27.3</td>\n",
              "      <td>30.7</td>\n",
              "      <td>22.7</td>\n",
              "      <td>NaN</td>\n",
              "    </tr>\n",
              "    <tr>\n",
              "      <th>03:00</th>\n",
              "      <td>2.1</td>\n",
              "      <td>23.5</td>\n",
              "      <td>26.8</td>\n",
              "      <td>20.5</td>\n",
              "      <td>NaN</td>\n",
              "    </tr>\n",
              "    <tr>\n",
              "      <th>04:00</th>\n",
              "      <td>3.3</td>\n",
              "      <td>28.0</td>\n",
              "      <td>33.0</td>\n",
              "      <td>22.1</td>\n",
              "      <td>NaN</td>\n",
              "    </tr>\n",
              "    <tr>\n",
              "      <th>...</th>\n",
              "      <th>...</th>\n",
              "      <th>...</th>\n",
              "      <td>...</td>\n",
              "      <td>...</td>\n",
              "      <td>...</td>\n",
              "      <td>...</td>\n",
              "      <td>...</td>\n",
              "    </tr>\n",
              "    <tr>\n",
              "      <th rowspan=\"5\" valign=\"top\">12</th>\n",
              "      <th rowspan=\"5\" valign=\"top\">31</th>\n",
              "      <th>19:00</th>\n",
              "      <td>0.7</td>\n",
              "      <td>17.5</td>\n",
              "      <td>18.5</td>\n",
              "      <td>16.3</td>\n",
              "      <td>-2.0</td>\n",
              "    </tr>\n",
              "    <tr>\n",
              "      <th>20:00</th>\n",
              "      <td>0.7</td>\n",
              "      <td>17.5</td>\n",
              "      <td>18.6</td>\n",
              "      <td>14.5</td>\n",
              "      <td>6.0</td>\n",
              "    </tr>\n",
              "    <tr>\n",
              "      <th>21:00</th>\n",
              "      <td>0.7</td>\n",
              "      <td>14.1</td>\n",
              "      <td>15.1</td>\n",
              "      <td>8.6</td>\n",
              "      <td>5.0</td>\n",
              "    </tr>\n",
              "    <tr>\n",
              "      <th>22:00</th>\n",
              "      <td>1.1</td>\n",
              "      <td>22.0</td>\n",
              "      <td>23.6</td>\n",
              "      <td>12.5</td>\n",
              "      <td>5.0</td>\n",
              "    </tr>\n",
              "    <tr>\n",
              "      <th>23:00</th>\n",
              "      <td>0.9</td>\n",
              "      <td>19.4</td>\n",
              "      <td>20.7</td>\n",
              "      <td>10.4</td>\n",
              "      <td>6.0</td>\n",
              "    </tr>\n",
              "  </tbody>\n",
              "</table>\n",
              "<p>8760 rows × 5 columns</p>\n",
              "</div>"
            ],
            "text/plain": [
              "                Value                        \n",
              "Species            NO   NO2   NOX  PM10 PM2.5\n",
              "Month Day Time                               \n",
              "01    01  00:00   3.5  30.8  36.2  35.7   NaN\n",
              "          01:00   3.6  31.5  37.0  28.5   NaN\n",
              "          02:00   2.2  27.3  30.7  22.7   NaN\n",
              "          03:00   2.1  23.5  26.8  20.5   NaN\n",
              "          04:00   3.3  28.0  33.0  22.1   NaN\n",
              "...               ...   ...   ...   ...   ...\n",
              "12    31  19:00   0.7  17.5  18.5  16.3  -2.0\n",
              "          20:00   0.7  17.5  18.6  14.5   6.0\n",
              "          21:00   0.7  14.1  15.1   8.6   5.0\n",
              "          22:00   1.1  22.0  23.6  12.5   5.0\n",
              "          23:00   0.9  19.4  20.7  10.4   6.0\n",
              "\n",
              "[8760 rows x 5 columns]"
            ]
          },
          "execution_count": 11,
          "metadata": {},
          "output_type": "execute_result"
        }
      ],
      "source": [
        "air_df.unstack()#Desapila los niveles de los índices y muestra el dataframe por niveles."
      ]
    },
    {
      "cell_type": "markdown",
      "metadata": {
        "id": "K1vWLX2ffxHV"
      },
      "source": [
        "10.\tExplica cuáles son las diferencias y similitudes entre el par `melt()/pivot()` y el par `stack()/unstack()`. Si tuvieras que elegir una contraparte para `melt()` entre `stack()/unstack()`, ¿cuál elegirías? ¿Por qué?"
      ]
    },
    {
      "cell_type": "markdown",
      "metadata": {},
      "source": [
        "Podemos empezar por visualizar cada uno de estos. "
      ]
    },
    {
      "cell_type": "code",
      "execution_count": 26,
      "metadata": {},
      "outputs": [],
      "source": [
        "air_df_copy = pd.read_csv(csv)"
      ]
    },
    {
      "cell_type": "code",
      "execution_count": 27,
      "metadata": {},
      "outputs": [
        {
          "data": {
            "text/html": [
              "<div>\n",
              "<style scoped>\n",
              "    .dataframe tbody tr th:only-of-type {\n",
              "        vertical-align: middle;\n",
              "    }\n",
              "\n",
              "    .dataframe tbody tr th {\n",
              "        vertical-align: top;\n",
              "    }\n",
              "\n",
              "    .dataframe thead th {\n",
              "        text-align: right;\n",
              "    }\n",
              "</style>\n",
              "<table border=\"1\" class=\"dataframe\">\n",
              "  <thead>\n",
              "    <tr style=\"text-align: right;\">\n",
              "      <th></th>\n",
              "      <th>Site</th>\n",
              "      <th>Species</th>\n",
              "      <th>ReadingDateTime</th>\n",
              "      <th>Value</th>\n",
              "      <th>Units</th>\n",
              "      <th>Provisional or Ratified</th>\n",
              "    </tr>\n",
              "  </thead>\n",
              "  <tbody>\n",
              "    <tr>\n",
              "      <th>0</th>\n",
              "      <td>CT3</td>\n",
              "      <td>NO</td>\n",
              "      <td>01/01/2017 00:00</td>\n",
              "      <td>3.5</td>\n",
              "      <td>ug m-3</td>\n",
              "      <td>R</td>\n",
              "    </tr>\n",
              "    <tr>\n",
              "      <th>1</th>\n",
              "      <td>CT3</td>\n",
              "      <td>NO</td>\n",
              "      <td>01/01/2017 01:00</td>\n",
              "      <td>3.6</td>\n",
              "      <td>ug m-3</td>\n",
              "      <td>R</td>\n",
              "    </tr>\n",
              "    <tr>\n",
              "      <th>2</th>\n",
              "      <td>CT3</td>\n",
              "      <td>NO</td>\n",
              "      <td>01/01/2017 02:00</td>\n",
              "      <td>2.2</td>\n",
              "      <td>ug m-3</td>\n",
              "      <td>R</td>\n",
              "    </tr>\n",
              "    <tr>\n",
              "      <th>3</th>\n",
              "      <td>CT3</td>\n",
              "      <td>NO</td>\n",
              "      <td>01/01/2017 03:00</td>\n",
              "      <td>2.1</td>\n",
              "      <td>ug m-3</td>\n",
              "      <td>R</td>\n",
              "    </tr>\n",
              "    <tr>\n",
              "      <th>4</th>\n",
              "      <td>CT3</td>\n",
              "      <td>NO</td>\n",
              "      <td>01/01/2017 04:00</td>\n",
              "      <td>3.3</td>\n",
              "      <td>ug m-3</td>\n",
              "      <td>R</td>\n",
              "    </tr>\n",
              "    <tr>\n",
              "      <th>...</th>\n",
              "      <td>...</td>\n",
              "      <td>...</td>\n",
              "      <td>...</td>\n",
              "      <td>...</td>\n",
              "      <td>...</td>\n",
              "      <td>...</td>\n",
              "    </tr>\n",
              "    <tr>\n",
              "      <th>43795</th>\n",
              "      <td>CT3</td>\n",
              "      <td>PM2.5</td>\n",
              "      <td>31/12/2017 19:00</td>\n",
              "      <td>-2.0</td>\n",
              "      <td>ug m-3</td>\n",
              "      <td>R</td>\n",
              "    </tr>\n",
              "    <tr>\n",
              "      <th>43796</th>\n",
              "      <td>CT3</td>\n",
              "      <td>PM2.5</td>\n",
              "      <td>31/12/2017 20:00</td>\n",
              "      <td>6.0</td>\n",
              "      <td>ug m-3</td>\n",
              "      <td>R</td>\n",
              "    </tr>\n",
              "    <tr>\n",
              "      <th>43797</th>\n",
              "      <td>CT3</td>\n",
              "      <td>PM2.5</td>\n",
              "      <td>31/12/2017 21:00</td>\n",
              "      <td>5.0</td>\n",
              "      <td>ug m-3</td>\n",
              "      <td>R</td>\n",
              "    </tr>\n",
              "    <tr>\n",
              "      <th>43798</th>\n",
              "      <td>CT3</td>\n",
              "      <td>PM2.5</td>\n",
              "      <td>31/12/2017 22:00</td>\n",
              "      <td>5.0</td>\n",
              "      <td>ug m-3</td>\n",
              "      <td>R</td>\n",
              "    </tr>\n",
              "    <tr>\n",
              "      <th>43799</th>\n",
              "      <td>CT3</td>\n",
              "      <td>PM2.5</td>\n",
              "      <td>31/12/2017 23:00</td>\n",
              "      <td>6.0</td>\n",
              "      <td>ug m-3</td>\n",
              "      <td>R</td>\n",
              "    </tr>\n",
              "  </tbody>\n",
              "</table>\n",
              "<p>43800 rows × 6 columns</p>\n",
              "</div>"
            ],
            "text/plain": [
              "      Site Species   ReadingDateTime  Value   Units Provisional or Ratified\n",
              "0      CT3      NO  01/01/2017 00:00    3.5  ug m-3                       R\n",
              "1      CT3      NO  01/01/2017 01:00    3.6  ug m-3                       R\n",
              "2      CT3      NO  01/01/2017 02:00    2.2  ug m-3                       R\n",
              "3      CT3      NO  01/01/2017 03:00    2.1  ug m-3                       R\n",
              "4      CT3      NO  01/01/2017 04:00    3.3  ug m-3                       R\n",
              "...    ...     ...               ...    ...     ...                     ...\n",
              "43795  CT3   PM2.5  31/12/2017 19:00   -2.0  ug m-3                       R\n",
              "43796  CT3   PM2.5  31/12/2017 20:00    6.0  ug m-3                       R\n",
              "43797  CT3   PM2.5  31/12/2017 21:00    5.0  ug m-3                       R\n",
              "43798  CT3   PM2.5  31/12/2017 22:00    5.0  ug m-3                       R\n",
              "43799  CT3   PM2.5  31/12/2017 23:00    6.0  ug m-3                       R\n",
              "\n",
              "[43800 rows x 6 columns]"
            ]
          },
          "execution_count": 27,
          "metadata": {},
          "output_type": "execute_result"
        }
      ],
      "source": [
        "air_df_copy"
      ]
    },
    {
      "cell_type": "code",
      "execution_count": 28,
      "metadata": {},
      "outputs": [
        {
          "data": {
            "text/html": [
              "<div>\n",
              "<style scoped>\n",
              "    .dataframe tbody tr th:only-of-type {\n",
              "        vertical-align: middle;\n",
              "    }\n",
              "\n",
              "    .dataframe tbody tr th {\n",
              "        vertical-align: top;\n",
              "    }\n",
              "\n",
              "    .dataframe thead th {\n",
              "        text-align: right;\n",
              "    }\n",
              "</style>\n",
              "<table border=\"1\" class=\"dataframe\">\n",
              "  <thead>\n",
              "    <tr style=\"text-align: right;\">\n",
              "      <th></th>\n",
              "      <th>Species</th>\n",
              "      <th>ReadingDateTime</th>\n",
              "      <th>Value</th>\n",
              "    </tr>\n",
              "  </thead>\n",
              "  <tbody>\n",
              "    <tr>\n",
              "      <th>0</th>\n",
              "      <td>NO</td>\n",
              "      <td>01/01/2017 00:00</td>\n",
              "      <td>3.5</td>\n",
              "    </tr>\n",
              "    <tr>\n",
              "      <th>1</th>\n",
              "      <td>NO</td>\n",
              "      <td>01/01/2017 01:00</td>\n",
              "      <td>3.6</td>\n",
              "    </tr>\n",
              "    <tr>\n",
              "      <th>2</th>\n",
              "      <td>NO</td>\n",
              "      <td>01/01/2017 02:00</td>\n",
              "      <td>2.2</td>\n",
              "    </tr>\n",
              "    <tr>\n",
              "      <th>3</th>\n",
              "      <td>NO</td>\n",
              "      <td>01/01/2017 03:00</td>\n",
              "      <td>2.1</td>\n",
              "    </tr>\n",
              "    <tr>\n",
              "      <th>4</th>\n",
              "      <td>NO</td>\n",
              "      <td>01/01/2017 04:00</td>\n",
              "      <td>3.3</td>\n",
              "    </tr>\n",
              "    <tr>\n",
              "      <th>...</th>\n",
              "      <td>...</td>\n",
              "      <td>...</td>\n",
              "      <td>...</td>\n",
              "    </tr>\n",
              "    <tr>\n",
              "      <th>43795</th>\n",
              "      <td>PM2.5</td>\n",
              "      <td>31/12/2017 19:00</td>\n",
              "      <td>-2.0</td>\n",
              "    </tr>\n",
              "    <tr>\n",
              "      <th>43796</th>\n",
              "      <td>PM2.5</td>\n",
              "      <td>31/12/2017 20:00</td>\n",
              "      <td>6.0</td>\n",
              "    </tr>\n",
              "    <tr>\n",
              "      <th>43797</th>\n",
              "      <td>PM2.5</td>\n",
              "      <td>31/12/2017 21:00</td>\n",
              "      <td>5.0</td>\n",
              "    </tr>\n",
              "    <tr>\n",
              "      <th>43798</th>\n",
              "      <td>PM2.5</td>\n",
              "      <td>31/12/2017 22:00</td>\n",
              "      <td>5.0</td>\n",
              "    </tr>\n",
              "    <tr>\n",
              "      <th>43799</th>\n",
              "      <td>PM2.5</td>\n",
              "      <td>31/12/2017 23:00</td>\n",
              "      <td>6.0</td>\n",
              "    </tr>\n",
              "  </tbody>\n",
              "</table>\n",
              "<p>43800 rows × 3 columns</p>\n",
              "</div>"
            ],
            "text/plain": [
              "      Species   ReadingDateTime  Value\n",
              "0          NO  01/01/2017 00:00    3.5\n",
              "1          NO  01/01/2017 01:00    3.6\n",
              "2          NO  01/01/2017 02:00    2.2\n",
              "3          NO  01/01/2017 03:00    2.1\n",
              "4          NO  01/01/2017 04:00    3.3\n",
              "...       ...               ...    ...\n",
              "43795   PM2.5  31/12/2017 19:00   -2.0\n",
              "43796   PM2.5  31/12/2017 20:00    6.0\n",
              "43797   PM2.5  31/12/2017 21:00    5.0\n",
              "43798   PM2.5  31/12/2017 22:00    5.0\n",
              "43799   PM2.5  31/12/2017 23:00    6.0\n",
              "\n",
              "[43800 rows x 3 columns]"
            ]
          },
          "execution_count": 28,
          "metadata": {},
          "output_type": "execute_result"
        }
      ],
      "source": [
        "columnas_s_uso = ['Site','Units','Provisional or Ratified']\n",
        "air_df_copy = air_df_copy.drop(columns=columnas_s_uso)\n",
        "air_df_copy"
      ]
    },
    {
      "cell_type": "code",
      "execution_count": 32,
      "metadata": {},
      "outputs": [
        {
          "data": {
            "text/html": [
              "<div>\n",
              "<style scoped>\n",
              "    .dataframe tbody tr th:only-of-type {\n",
              "        vertical-align: middle;\n",
              "    }\n",
              "\n",
              "    .dataframe tbody tr th {\n",
              "        vertical-align: top;\n",
              "    }\n",
              "\n",
              "    .dataframe thead th {\n",
              "        text-align: right;\n",
              "    }\n",
              "</style>\n",
              "<table border=\"1\" class=\"dataframe\">\n",
              "  <thead>\n",
              "    <tr style=\"text-align: right;\">\n",
              "      <th></th>\n",
              "      <th>ReadingDateTime</th>\n",
              "      <th>Species</th>\n",
              "      <th>Variable</th>\n",
              "      <th>Valor</th>\n",
              "    </tr>\n",
              "  </thead>\n",
              "  <tbody>\n",
              "    <tr>\n",
              "      <th>0</th>\n",
              "      <td>01/01/2017 00:00</td>\n",
              "      <td>NO</td>\n",
              "      <td>Value</td>\n",
              "      <td>3.5</td>\n",
              "    </tr>\n",
              "    <tr>\n",
              "      <th>1</th>\n",
              "      <td>01/01/2017 01:00</td>\n",
              "      <td>NO</td>\n",
              "      <td>Value</td>\n",
              "      <td>3.6</td>\n",
              "    </tr>\n",
              "    <tr>\n",
              "      <th>2</th>\n",
              "      <td>01/01/2017 02:00</td>\n",
              "      <td>NO</td>\n",
              "      <td>Value</td>\n",
              "      <td>2.2</td>\n",
              "    </tr>\n",
              "    <tr>\n",
              "      <th>3</th>\n",
              "      <td>01/01/2017 03:00</td>\n",
              "      <td>NO</td>\n",
              "      <td>Value</td>\n",
              "      <td>2.1</td>\n",
              "    </tr>\n",
              "    <tr>\n",
              "      <th>4</th>\n",
              "      <td>01/01/2017 04:00</td>\n",
              "      <td>NO</td>\n",
              "      <td>Value</td>\n",
              "      <td>3.3</td>\n",
              "    </tr>\n",
              "    <tr>\n",
              "      <th>...</th>\n",
              "      <td>...</td>\n",
              "      <td>...</td>\n",
              "      <td>...</td>\n",
              "      <td>...</td>\n",
              "    </tr>\n",
              "    <tr>\n",
              "      <th>43795</th>\n",
              "      <td>31/12/2017 19:00</td>\n",
              "      <td>PM2.5</td>\n",
              "      <td>Value</td>\n",
              "      <td>-2.0</td>\n",
              "    </tr>\n",
              "    <tr>\n",
              "      <th>43796</th>\n",
              "      <td>31/12/2017 20:00</td>\n",
              "      <td>PM2.5</td>\n",
              "      <td>Value</td>\n",
              "      <td>6.0</td>\n",
              "    </tr>\n",
              "    <tr>\n",
              "      <th>43797</th>\n",
              "      <td>31/12/2017 21:00</td>\n",
              "      <td>PM2.5</td>\n",
              "      <td>Value</td>\n",
              "      <td>5.0</td>\n",
              "    </tr>\n",
              "    <tr>\n",
              "      <th>43798</th>\n",
              "      <td>31/12/2017 22:00</td>\n",
              "      <td>PM2.5</td>\n",
              "      <td>Value</td>\n",
              "      <td>5.0</td>\n",
              "    </tr>\n",
              "    <tr>\n",
              "      <th>43799</th>\n",
              "      <td>31/12/2017 23:00</td>\n",
              "      <td>PM2.5</td>\n",
              "      <td>Value</td>\n",
              "      <td>6.0</td>\n",
              "    </tr>\n",
              "  </tbody>\n",
              "</table>\n",
              "<p>43800 rows × 4 columns</p>\n",
              "</div>"
            ],
            "text/plain": [
              "        ReadingDateTime Species Variable  Valor\n",
              "0      01/01/2017 00:00      NO    Value    3.5\n",
              "1      01/01/2017 01:00      NO    Value    3.6\n",
              "2      01/01/2017 02:00      NO    Value    2.2\n",
              "3      01/01/2017 03:00      NO    Value    2.1\n",
              "4      01/01/2017 04:00      NO    Value    3.3\n",
              "...                 ...     ...      ...    ...\n",
              "43795  31/12/2017 19:00   PM2.5    Value   -2.0\n",
              "43796  31/12/2017 20:00   PM2.5    Value    6.0\n",
              "43797  31/12/2017 21:00   PM2.5    Value    5.0\n",
              "43798  31/12/2017 22:00   PM2.5    Value    5.0\n",
              "43799  31/12/2017 23:00   PM2.5    Value    6.0\n",
              "\n",
              "[43800 rows x 4 columns]"
            ]
          },
          "execution_count": 32,
          "metadata": {},
          "output_type": "execute_result"
        }
      ],
      "source": [
        "#melt\n",
        "melt_air = air_df_copy.melt(id_vars=['ReadingDateTime','Species'],var_name='Variable',value_name='Valor')\n",
        "melt_air"
      ]
    },
    {
      "cell_type": "markdown",
      "metadata": {},
      "source": [
        "De esta forma vemos que hae un formato largo de un tadata frame es decir que identifica columas identificadoras y después hace un formato largo del mismo."
      ]
    },
    {
      "cell_type": "code",
      "execution_count": 45,
      "metadata": {},
      "outputs": [
        {
          "data": {
            "text/html": [
              "<div>\n",
              "<style scoped>\n",
              "    .dataframe tbody tr th:only-of-type {\n",
              "        vertical-align: middle;\n",
              "    }\n",
              "\n",
              "    .dataframe tbody tr th {\n",
              "        vertical-align: top;\n",
              "    }\n",
              "\n",
              "    .dataframe thead th {\n",
              "        text-align: right;\n",
              "    }\n",
              "</style>\n",
              "<table border=\"1\" class=\"dataframe\">\n",
              "  <thead>\n",
              "    <tr style=\"text-align: right;\">\n",
              "      <th></th>\n",
              "      <th>Species</th>\n",
              "      <th>ReadingDateTime</th>\n",
              "      <th>Value</th>\n",
              "    </tr>\n",
              "  </thead>\n",
              "  <tbody>\n",
              "    <tr>\n",
              "      <th>0</th>\n",
              "      <td>NO</td>\n",
              "      <td>01/01/2017 00:00</td>\n",
              "      <td>3.5</td>\n",
              "    </tr>\n",
              "    <tr>\n",
              "      <th>1</th>\n",
              "      <td>NO</td>\n",
              "      <td>01/01/2017 01:00</td>\n",
              "      <td>3.6</td>\n",
              "    </tr>\n",
              "    <tr>\n",
              "      <th>2</th>\n",
              "      <td>NO</td>\n",
              "      <td>01/01/2017 02:00</td>\n",
              "      <td>2.2</td>\n",
              "    </tr>\n",
              "    <tr>\n",
              "      <th>3</th>\n",
              "      <td>NO</td>\n",
              "      <td>01/01/2017 03:00</td>\n",
              "      <td>2.1</td>\n",
              "    </tr>\n",
              "    <tr>\n",
              "      <th>4</th>\n",
              "      <td>NO</td>\n",
              "      <td>01/01/2017 04:00</td>\n",
              "      <td>3.3</td>\n",
              "    </tr>\n",
              "    <tr>\n",
              "      <th>...</th>\n",
              "      <td>...</td>\n",
              "      <td>...</td>\n",
              "      <td>...</td>\n",
              "    </tr>\n",
              "    <tr>\n",
              "      <th>43795</th>\n",
              "      <td>PM2.5</td>\n",
              "      <td>31/12/2017 19:00</td>\n",
              "      <td>-2.0</td>\n",
              "    </tr>\n",
              "    <tr>\n",
              "      <th>43796</th>\n",
              "      <td>PM2.5</td>\n",
              "      <td>31/12/2017 20:00</td>\n",
              "      <td>6.0</td>\n",
              "    </tr>\n",
              "    <tr>\n",
              "      <th>43797</th>\n",
              "      <td>PM2.5</td>\n",
              "      <td>31/12/2017 21:00</td>\n",
              "      <td>5.0</td>\n",
              "    </tr>\n",
              "    <tr>\n",
              "      <th>43798</th>\n",
              "      <td>PM2.5</td>\n",
              "      <td>31/12/2017 22:00</td>\n",
              "      <td>5.0</td>\n",
              "    </tr>\n",
              "    <tr>\n",
              "      <th>43799</th>\n",
              "      <td>PM2.5</td>\n",
              "      <td>31/12/2017 23:00</td>\n",
              "      <td>6.0</td>\n",
              "    </tr>\n",
              "  </tbody>\n",
              "</table>\n",
              "<p>43800 rows × 3 columns</p>\n",
              "</div>"
            ],
            "text/plain": [
              "      Species   ReadingDateTime  Value\n",
              "0          NO  01/01/2017 00:00    3.5\n",
              "1          NO  01/01/2017 01:00    3.6\n",
              "2          NO  01/01/2017 02:00    2.2\n",
              "3          NO  01/01/2017 03:00    2.1\n",
              "4          NO  01/01/2017 04:00    3.3\n",
              "...       ...               ...    ...\n",
              "43795   PM2.5  31/12/2017 19:00   -2.0\n",
              "43796   PM2.5  31/12/2017 20:00    6.0\n",
              "43797   PM2.5  31/12/2017 21:00    5.0\n",
              "43798   PM2.5  31/12/2017 22:00    5.0\n",
              "43799   PM2.5  31/12/2017 23:00    6.0\n",
              "\n",
              "[43800 rows x 3 columns]"
            ]
          },
          "execution_count": 45,
          "metadata": {},
          "output_type": "execute_result"
        }
      ],
      "source": [
        "air_df_copy = pd.read_csv(csv)\n",
        "columnas_s_uso = ['Site','Units','Provisional or Ratified']\n",
        "air_df_copy = air_df_copy.drop(columns=columnas_s_uso)\n",
        "air_df_copy"
      ]
    },
    {
      "cell_type": "code",
      "execution_count": 48,
      "metadata": {},
      "outputs": [
        {
          "data": {
            "text/html": [
              "<div>\n",
              "<style scoped>\n",
              "    .dataframe tbody tr th:only-of-type {\n",
              "        vertical-align: middle;\n",
              "    }\n",
              "\n",
              "    .dataframe tbody tr th {\n",
              "        vertical-align: top;\n",
              "    }\n",
              "\n",
              "    .dataframe thead th {\n",
              "        text-align: right;\n",
              "    }\n",
              "</style>\n",
              "<table border=\"1\" class=\"dataframe\">\n",
              "  <thead>\n",
              "    <tr style=\"text-align: right;\">\n",
              "      <th>Species</th>\n",
              "      <th>NO</th>\n",
              "      <th>NO2</th>\n",
              "      <th>NOX</th>\n",
              "      <th>PM10</th>\n",
              "      <th>PM2.5</th>\n",
              "    </tr>\n",
              "    <tr>\n",
              "      <th>ReadingDateTime</th>\n",
              "      <th></th>\n",
              "      <th></th>\n",
              "      <th></th>\n",
              "      <th></th>\n",
              "      <th></th>\n",
              "    </tr>\n",
              "  </thead>\n",
              "  <tbody>\n",
              "    <tr>\n",
              "      <th>01/01/2017 00:00</th>\n",
              "      <td>3.5</td>\n",
              "      <td>30.8</td>\n",
              "      <td>36.2</td>\n",
              "      <td>35.7</td>\n",
              "      <td>NaN</td>\n",
              "    </tr>\n",
              "    <tr>\n",
              "      <th>01/01/2017 01:00</th>\n",
              "      <td>3.6</td>\n",
              "      <td>31.5</td>\n",
              "      <td>37.0</td>\n",
              "      <td>28.5</td>\n",
              "      <td>NaN</td>\n",
              "    </tr>\n",
              "    <tr>\n",
              "      <th>01/01/2017 02:00</th>\n",
              "      <td>2.2</td>\n",
              "      <td>27.3</td>\n",
              "      <td>30.7</td>\n",
              "      <td>22.7</td>\n",
              "      <td>NaN</td>\n",
              "    </tr>\n",
              "    <tr>\n",
              "      <th>01/01/2017 03:00</th>\n",
              "      <td>2.1</td>\n",
              "      <td>23.5</td>\n",
              "      <td>26.8</td>\n",
              "      <td>20.5</td>\n",
              "      <td>NaN</td>\n",
              "    </tr>\n",
              "    <tr>\n",
              "      <th>01/01/2017 04:00</th>\n",
              "      <td>3.3</td>\n",
              "      <td>28.0</td>\n",
              "      <td>33.0</td>\n",
              "      <td>22.1</td>\n",
              "      <td>NaN</td>\n",
              "    </tr>\n",
              "    <tr>\n",
              "      <th>...</th>\n",
              "      <td>...</td>\n",
              "      <td>...</td>\n",
              "      <td>...</td>\n",
              "      <td>...</td>\n",
              "      <td>...</td>\n",
              "    </tr>\n",
              "    <tr>\n",
              "      <th>31/12/2017 19:00</th>\n",
              "      <td>0.7</td>\n",
              "      <td>17.5</td>\n",
              "      <td>18.5</td>\n",
              "      <td>16.3</td>\n",
              "      <td>-2.0</td>\n",
              "    </tr>\n",
              "    <tr>\n",
              "      <th>31/12/2017 20:00</th>\n",
              "      <td>0.7</td>\n",
              "      <td>17.5</td>\n",
              "      <td>18.6</td>\n",
              "      <td>14.5</td>\n",
              "      <td>6.0</td>\n",
              "    </tr>\n",
              "    <tr>\n",
              "      <th>31/12/2017 21:00</th>\n",
              "      <td>0.7</td>\n",
              "      <td>14.1</td>\n",
              "      <td>15.1</td>\n",
              "      <td>8.6</td>\n",
              "      <td>5.0</td>\n",
              "    </tr>\n",
              "    <tr>\n",
              "      <th>31/12/2017 22:00</th>\n",
              "      <td>1.1</td>\n",
              "      <td>22.0</td>\n",
              "      <td>23.6</td>\n",
              "      <td>12.5</td>\n",
              "      <td>5.0</td>\n",
              "    </tr>\n",
              "    <tr>\n",
              "      <th>31/12/2017 23:00</th>\n",
              "      <td>0.9</td>\n",
              "      <td>19.4</td>\n",
              "      <td>20.7</td>\n",
              "      <td>10.4</td>\n",
              "      <td>6.0</td>\n",
              "    </tr>\n",
              "  </tbody>\n",
              "</table>\n",
              "<p>8760 rows × 5 columns</p>\n",
              "</div>"
            ],
            "text/plain": [
              "Species            NO   NO2   NOX  PM10  PM2.5\n",
              "ReadingDateTime                               \n",
              "01/01/2017 00:00  3.5  30.8  36.2  35.7    NaN\n",
              "01/01/2017 01:00  3.6  31.5  37.0  28.5    NaN\n",
              "01/01/2017 02:00  2.2  27.3  30.7  22.7    NaN\n",
              "01/01/2017 03:00  2.1  23.5  26.8  20.5    NaN\n",
              "01/01/2017 04:00  3.3  28.0  33.0  22.1    NaN\n",
              "...               ...   ...   ...   ...    ...\n",
              "31/12/2017 19:00  0.7  17.5  18.5  16.3   -2.0\n",
              "31/12/2017 20:00  0.7  17.5  18.6  14.5    6.0\n",
              "31/12/2017 21:00  0.7  14.1  15.1   8.6    5.0\n",
              "31/12/2017 22:00  1.1  22.0  23.6  12.5    5.0\n",
              "31/12/2017 23:00  0.9  19.4  20.7  10.4    6.0\n",
              "\n",
              "[8760 rows x 5 columns]"
            ]
          },
          "execution_count": 48,
          "metadata": {},
          "output_type": "execute_result"
        }
      ],
      "source": [
        "pvttt_df = air_df_copy.pivot(index='ReadingDateTime', columns='Species', values='Value')\n",
        "pvttt_df"
      ]
    },
    {
      "cell_type": "markdown",
      "metadata": {},
      "source": [
        "En este caso hace el formato a uno ancho, las fila de species la hace fila y nos da mas detalle de la información."
      ]
    },
    {
      "cell_type": "markdown",
      "metadata": {},
      "source": [
        "Para el caso de Stack y Unsatck vemos que una apila y la otra desapila, Por lo que podemos ver diferentes niveles. Contrae y edspliega. Por lo que podría decir que el método de pivot es más parecido a unstack y el de melt al de stack."
      ]
    }
  ],
  "metadata": {
    "colab": {
      "provenance": []
    },
    "kernelspec": {
      "display_name": "Python 3",
      "name": "python3"
    },
    "language_info": {
      "codemirror_mode": {
        "name": "ipython",
        "version": 3
      },
      "file_extension": ".py",
      "mimetype": "text/x-python",
      "name": "python",
      "nbconvert_exporter": "python",
      "pygments_lexer": "ipython3",
      "version": "3.11.5"
    }
  },
  "nbformat": 4,
  "nbformat_minor": 0
}
